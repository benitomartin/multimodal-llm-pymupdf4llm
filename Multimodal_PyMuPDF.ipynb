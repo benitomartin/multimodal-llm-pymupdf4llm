{
  "nbformat": 4,
  "nbformat_minor": 0,
  "metadata": {
    "colab": {
      "provenance": [],
      "gpuType": "A100",
      "authorship_tag": "ABX9TyNbGerV9yhRTcjA6bhXPSjG",
      "include_colab_link": true
    },
    "kernelspec": {
      "name": "python3",
      "display_name": "Python 3"
    },
    "language_info": {
      "name": "python"
    },
    "accelerator": "GPU"
  },
  "cells": [
    {
      "cell_type": "markdown",
      "metadata": {
        "id": "view-in-github",
        "colab_type": "text"
      },
      "source": [
        "<a href=\"https://colab.research.google.com/github/benitomartin/multimodal-llm-pymupdf4llm/blob/main/Multimodal_PyMuPDF.ipynb\" target=\"_parent\"><img src=\"https://colab.research.google.com/assets/colab-badge.svg\" alt=\"Open In Colab\"/></a>"
      ]
    },
    {
      "cell_type": "code",
      "execution_count": null,
      "metadata": {
        "colab": {
          "base_uri": "https://localhost:8080/"
        },
        "collapsed": true,
        "id": "gjnsESDkLwwn",
        "outputId": "522f23e9-02bc-4f99-e4b8-a12d42ce65c5"
      },
      "outputs": [
        {
          "output_type": "stream",
          "name": "stdout",
          "text": [
            "  Preparing metadata (setup.py) ... \u001b[?25l\u001b[?25hdone\n"
          ]
        }
      ],
      "source": [
        "!pip install -qq pymupdf4llm\n",
        "!pip install -qq llama-index\n",
        "!pip install -qq llama-index qdrant-client\n",
        "!pip install -qq llama-index-vector-stores-qdrant\n",
        "!pip install -qq git+https://github.com/openai/CLIP.git\n",
        "!pip install -qq llama-index-embeddings-clip"
      ]
    },
    {
      "cell_type": "code",
      "source": [
        "import os\n",
        "from google.colab import userdata\n",
        "import pymupdf4llm\n",
        "\n",
        "import qdrant_client\n",
        "from qdrant_client import QdrantClient\n",
        "from qdrant_client.http.models import VectorParams, Distance\n",
        "\n",
        "from llama_index.core import Document, SimpleDirectoryReader, StorageContext\n",
        "from llama_index.vector_stores.qdrant import QdrantVectorStore\n",
        "from llama_index.core.indices import MultiModalVectorStoreIndex\n",
        "from llama_index.core.node_parser import SentenceSplitter\n",
        "from llama_index.core.schema import ImageDocument, ImageNode\n",
        "from llama_index.multi_modal_llms.openai import OpenAIMultiModal\n",
        "from llama_index.core.response.notebook_utils import display_source_node\n",
        "\n",
        "import json"
      ],
      "metadata": {
        "id": "PAbIs5yz6ahR"
      },
      "execution_count": null,
      "outputs": []
    },
    {
      "cell_type": "code",
      "source": [
        "os.environ[\"OPENAI_API_KEY\"] = userdata.get('OPENAI_API_KEY')"
      ],
      "metadata": {
        "id": "8lgAHnUp-a6T"
      },
      "execution_count": null,
      "outputs": []
    },
    {
      "cell_type": "markdown",
      "source": [
        "You can download the document used in this notebook [here](https://arxiv.org/abs/1706.03762)"
      ],
      "metadata": {
        "id": "qRXo_vvIFI_m"
      }
    },
    {
      "cell_type": "code",
      "source": [
        "# Perform the markdown conversion\n",
        "docs = pymupdf4llm.to_markdown(doc=\"/content/document.pdf\",\n",
        "                                  page_chunks = True,\n",
        "                                  write_images = True,\n",
        "                                  image_path = \"/content/images\",\n",
        "                                  image_format = \"jpg\",\n",
        "                                  )"
      ],
      "metadata": {
        "colab": {
          "base_uri": "https://localhost:8080/"
        },
        "id": "6Tsil3nEL1U8",
        "outputId": "274aa973-2aa8-4715-a557-ecbad066e982"
      },
      "execution_count": null,
      "outputs": [
        {
          "output_type": "stream",
          "name": "stdout",
          "text": [
            "Processing /content/document.pdf...\n",
            "[                                        ] (0/15)\b\b\b\b\b\b\b\b\b\b\b\b\b\b\b\b\b\b\b\b\b\b\b\b\b\b\b\b\b\b\b\b\b\b\b\b\b\b\b\b\b\b\b\b\b\b\b\b==\b\b\b\b\b\b\b\b\b\b\b\b\b\b\b\b\b\b\b\b\b\b\b\b\b\b\b\b\b\b\b\b\b\b\b\b\b\b\b\b\b\b\b\b\b\b\b\b\b[==                                      ] ( 1/15)\b\b\b\b\b\b\b\b\b\b\b\b\b\b\b\b\b\b\b\b\b\b\b\b\b\b\b\b\b\b\b\b\b\b\b\b\b\b\b\b\b\b\b\b\b\b\b===\b\b\b\b\b\b\b\b\b\b\b\b\b\b\b\b\b\b\b\b\b\b\b\b\b\b\b\b\b\b\b\b\b\b\b\b\b\b\b\b\b\b\b\b\b\b\b\b\b[=====                                   ] ( 2/15)\b\b\b\b\b\b\b\b\b\b\b\b\b\b\b\b\b\b\b\b\b\b\b\b\b\b\b\b\b\b\b\b\b\b\b\b\b\b\b\b\b\b\b\b==\b\b\b\b\b\b\b\b\b\b\b\b\b\b\b\b\b\b\b\b\b\b\b\b\b\b\b\b\b\b\b\b\b\b\b\b\b\b\b\b\b\b\b\b\b\b\b\b\b[========                                ] ( 3/15)\b\b\b\b\b\b\b\b\b\b\b\b\b\b\b\b\b\b\b\b\b\b\b\b\b\b\b\b\b\b\b\b\b\b\b\b\b\b\b\b\b===\b\b\b\b\b\b\b\b\b\b\b\b\b\b\b\b\b\b\b\b\b\b\b\b\b\b\b\b\b\b\b\b\b\b\b\b\b\b\b\b\b\b\b\b\b\b\b\b\b[==========                              ] ( 4/15)\b\b\b\b\b\b\b\b\b\b\b\b\b\b\b\b\b\b\b\b\b\b\b\b\b\b\b\b\b\b\b\b\b\b\b\b\b\b\b===\b\b\b\b\b\b\b\b\b\b\b\b\b\b\b\b\b\b\b\b\b\b\b\b\b\b\b\b\b\b\b\b\b\b\b\b\b\b\b\b\b\b\b\b\b\b\b\b\b[=============                           ] ( 5/15)\b\b\b\b\b\b\b\b\b\b\b\b\b\b\b\b\b\b\b\b\b\b\b\b\b\b\b\b\b\b\b\b\b\b\b\b==\b\b\b\b\b\b\b\b\b\b\b\b\b\b\b\b\b\b\b\b\b\b\b\b\b\b\b\b\b\b\b\b\b\b\b\b\b\b\b\b\b\b\b\b\b\b\b\b\b[================                        ] ( 6/15)\b\b\b\b\b\b\b\b\b\b\b\b\b\b\b\b\b\b\b\b\b\b\b\b\b\b\b\b\b\b\b\b\b===\b\b\b\b\b\b\b\b\b\b\b\b\b\b\b\b\b\b\b\b\b\b\b\b\b\b\b\b\b\b\b\b\b\b\b\b\b\b\b\b\b\b\b\b\b\b\b\b\b[==================                      ] ( 7/15)\b\b\b\b\b\b\b\b\b\b\b\b\b\b\b\b\b\b\b\b\b\b\b\b\b\b\b\b\b\b\b===\b\b\b\b\b\b\b\b\b\b\b\b\b\b\b\b\b\b\b\b\b\b\b\b\b\b\b\b\b\b\b\b\b\b\b\b\b\b\b\b\b\b\b\b\b\b\b\b\b[=====================                   ] ( 8/15)\b\b\b\b\b\b\b\b\b\b\b\b\b\b\b\b\b\b\b\b\b\b\b\b\b\b\b\b==\b\b\b\b\b\b\b\b\b\b\b\b\b\b\b\b\b\b\b\b\b\b\b\b\b\b\b\b\b\b\b\b\b\b\b\b\b\b\b\b\b\b\b\b\b\b\b\b\b[========================                ] ( 9/15)\b\b\b\b\b\b\b\b\b\b\b\b\b\b\b\b\b\b\b\b\b\b\b\b\b===\b\b\b\b\b\b\b\b\b\b\b\b\b\b\b\b\b\b\b\b\b\b\b\b\b\b\b\b\b\b\b\b\b\b\b\b\b\b\b\b\b\b\b\b\b\b\b\b\b[==========================              ] (10/15)\b\b\b\b\b\b\b\b\b\b\b\b\b\b\b\b\b\b\b\b\b\b\b===\b\b\b\b\b\b\b\b\b\b\b\b\b\b\b\b\b\b\b\b\b\b\b\b\b\b\b\b\b\b\b\b\b\b\b\b\b\b\b\b\b\b\b\b\b\b\b\b\b[=============================           ] (11/15)\b\b\b\b\b\b\b\b\b\b\b\b\b\b\b\b\b\b\b\b==\b\b\b\b\b\b\b\b\b\b\b\b\b\b\b\b\b\b\b\b\b\b\b\b\b\b\b\b\b\b\b\b\b\b\b\b\b\b\b\b\b\b\b\b\b\b\b\b\b[================================        ] (12/15)\b\b\b\b\b\b\b\b\b\b\b\b\b\b\b\b\b===\b\b\b\b\b\b\b\b\b\b\b\b\b\b\b\b\b\b\b\b\b\b\b\b\b\b\b\b\b\b\b\b\b\b\b\b\b\b\b\b\b\b\b\b\b\b\b\b\b[==================================      ] (13/15)\b\b\b\b\b\b\b\b\b\b\b\b\b\b\b===\b\b\b\b\b\b\b\b\b\b\b\b\b\b\b\b\b\b\b\b\b\b\b\b\b\b\b\b\b\b\b\b\b\b\b\b\b\b\b\b\b\b\b\b\b\b\b\b\b[=====================================   ] (14/15)\b\b\b\b\b\b\b\b\b\b\b\b==\b\b\b\b\b\b\b\b\b\b\b\b\b\b\b\b\b\b\b\b\b\b\b\b\b\b\b\b\b\b\b\b\b\b\b\b\b\b\b\b\b\b\b\b\b\b\b\b\b[========================================] (15/15)\b\b\b\b\b\b\b\b\b]\n"
          ]
        }
      ]
    },
    {
      "cell_type": "code",
      "source": [
        "llama_documents = []\n",
        "\n",
        "for document in docs:\n",
        "    # Extract just the 'metadata' field and convert certain elements as needed\n",
        "    metadata = {\n",
        "        \"file_path\": document[\"metadata\"].get(\"file_path\"),\n",
        "        \"page\": str(document[\"metadata\"].get(\"page\")),\n",
        "        \"images\": str(document.get(\"images\")),\n",
        "        \"toc_items\": str(document.get(\"toc_items\")),\n",
        "\n",
        "    }\n",
        "\n",
        "    # Create a Document object with just the text and the cleaned metadata\n",
        "    llama_document = Document(\n",
        "        text=document[\"text\"],\n",
        "        metadata=metadata,\n",
        "        text_template=\"Metadata: {metadata_str}\\n-----\\nContent: {content}\",\n",
        "    )\n",
        "\n",
        "    llama_documents.append(llama_document)"
      ],
      "metadata": {
        "id": "WAgbKthmNYDp"
      },
      "execution_count": null,
      "outputs": []
    },
    {
      "cell_type": "code",
      "source": [
        "llama_documents[0]"
      ],
      "metadata": {
        "colab": {
          "base_uri": "https://localhost:8080/"
        },
        "collapsed": true,
        "id": "Wz_MWZZCe3Md",
        "outputId": "24d673ee-54d6-40a1-b33d-9c54417d0c13"
      },
      "execution_count": null,
      "outputs": [
        {
          "output_type": "execute_result",
          "data": {
            "text/plain": [
              "Document(id_='2e043b1d-cdc4-47b1-81df-278c852dc534', embedding=None, metadata={'file_path': '/content/document.pdf', 'page': '1', 'images': '[]', 'toc_items': '[]'}, excluded_embed_metadata_keys=[], excluded_llm_metadata_keys=[], relationships={}, text='#### Provided proper attribution is provided, Google hereby grants permission to reproduce the tables and figures in this paper solely for use in journalistic or scholarly works.\\n\\n## Attention Is All You Need\\n\\n\\n**Ashish Vaswani[∗]**\\nGoogle Brain\\n```\\navaswani@google.com\\n\\n```\\n**Llion Jones[∗]**\\nGoogle Research\\n```\\n llion@google.com\\n\\n```\\n\\n**Noam Shazeer[∗]**\\nGoogle Brain\\n```\\nnoam@google.com\\n\\n```\\n\\n**Aidan N. Gomez[∗†]**\\nUniversity of Toronto\\n```\\naidan@cs.toronto.edu\\n\\n```\\n\\n**Niki Parmar[∗]**\\nGoogle Research\\n```\\nnikip@google.com\\n\\n```\\n\\n**Jakob Uszkoreit[∗]**\\nGoogle Research\\n```\\nusz@google.com\\n\\n```\\n\\n**Łukasz Kaiser[∗]**\\nGoogle Brain\\n```\\nlukaszkaiser@google.com\\n\\n```\\n\\n**Illia Polosukhin[∗‡]**\\n```\\nillia.polosukhin@gmail.com\\n\\n#### Abstract\\n\\n```\\n\\nThe dominant sequence transduction models are based on complex recurrent or\\nconvolutional neural networks that include an encoder and a decoder. The best\\nperforming models also connect the encoder and decoder through an attention\\nmechanism. We propose a new simple network architecture, the Transformer,\\nbased solely on attention mechanisms, dispensing with recurrence and convolutions\\nentirely. Experiments on two machine translation tasks show these models to\\nbe superior in quality while being more parallelizable and requiring significantly\\nless time to train. Our model achieves 28.4 BLEU on the WMT 2014 Englishto-German translation task, improving over the existing best results, including\\nensembles, by over 2 BLEU. On the WMT 2014 English-to-French translation task,\\nour model establishes a new single-model state-of-the-art BLEU score of 41.8 after\\ntraining for 3.5 days on eight GPUs, a small fraction of the training costs of the\\nbest models from the literature. We show that the Transformer generalizes well to\\nother tasks by applying it successfully to English constituency parsing both with\\nlarge and limited training data.\\n\\n_∗Equal contribution. Listing order is random. Jakob proposed replacing RNNs with self-attention and started_\\nthe effort to evaluate this idea. Ashish, with Illia, designed and implemented the first Transformer models and\\nhas been crucially involved in every aspect of this work. Noam proposed scaled dot-product attention, multi-head\\nattention and the parameter-free position representation and became the other person involved in nearly every\\ndetail. Niki designed, implemented, tuned and evaluated countless model variants in our original codebase and\\ntensor2tensor. Llion also experimented with novel model variants, was responsible for our initial codebase, and\\nefficient inference and visualizations. Lukasz and Aidan spent countless long days designing various parts of and\\nimplementing tensor2tensor, replacing our earlier codebase, greatly improving results and massively accelerating\\nour research.\\n_†Work performed while at Google Brain._\\n_‡Work performed while at Google Research._\\n\\n\\n31st Conference on Neural Information Processing Systems (NIPS 2017), Long Beach, CA, USA.\\n\\n\\n-----\\n\\n', mimetype='text/plain', start_char_idx=None, end_char_idx=None, text_template='Metadata: {metadata_str}\\n-----\\nContent: {content}', metadata_template='{key}: {value}', metadata_seperator='\\n')"
            ]
          },
          "metadata": {},
          "execution_count": 10
        }
      ]
    },
    {
      "cell_type": "code",
      "source": [
        "client = qdrant_client.QdrantClient(location=\":memory:\")"
      ],
      "metadata": {
        "collapsed": true,
        "id": "OGVhYNytL1W9"
      },
      "execution_count": null,
      "outputs": []
    },
    {
      "cell_type": "code",
      "source": [
        "# Create a collection for text data\n",
        "client.create_collection(\n",
        "    collection_name=\"text_collection\",\n",
        "    vectors_config=VectorParams(size=1536, distance=Distance.COSINE)\n",
        ")\n",
        "\n",
        "# Create a collection for image data\n",
        "client.create_collection(\n",
        "    collection_name=\"image_collection\",\n",
        "    vectors_config=VectorParams(size=512, distance=Distance.COSINE)\n",
        ")"
      ],
      "metadata": {
        "colab": {
          "base_uri": "https://localhost:8080/"
        },
        "id": "5BIWDXuhL1at",
        "outputId": "2fda917a-de0d-4d65-f453-47a1c34e5e23"
      },
      "execution_count": null,
      "outputs": [
        {
          "output_type": "execute_result",
          "data": {
            "text/plain": [
              "True"
            ]
          },
          "metadata": {},
          "execution_count": 12
        }
      ]
    },
    {
      "cell_type": "code",
      "source": [
        "# Initialize Collections\n",
        "text_store = QdrantVectorStore(\n",
        "    client=client, collection_name=\"text_collection\"\n",
        ")\n",
        "\n",
        "image_store = QdrantVectorStore(\n",
        "    client=client, collection_name=\"image_collection\"\n",
        ")"
      ],
      "metadata": {
        "id": "7h-nJOuML1cy"
      },
      "execution_count": null,
      "outputs": []
    },
    {
      "cell_type": "code",
      "source": [
        "# Create the MultiModal index\n",
        "\n",
        "storage_context = StorageContext.from_defaults(\n",
        "    vector_store=text_store, image_store=image_store\n",
        ")\n",
        "\n",
        "# context images\n",
        "image_path = \"/content/images\"\n",
        "image_documents = SimpleDirectoryReader(image_path).load_data()\n",
        "\n",
        "index = MultiModalVectorStoreIndex.from_documents(\n",
        "    llama_documents + image_documents,\n",
        "    storage_context=storage_context)"
      ],
      "metadata": {
        "id": "VbjED6KUL1hF",
        "colab": {
          "base_uri": "https://localhost:8080/"
        },
        "outputId": "29058678-b92e-4c3a-dfdf-dde7efb52be5"
      },
      "execution_count": null,
      "outputs": [
        {
          "output_type": "stream",
          "name": "stderr",
          "text": [
            "100%|████████████████████████████████████████| 338M/338M [00:02<00:00, 133MiB/s]\n"
          ]
        }
      ]
    },
    {
      "cell_type": "code",
      "source": [
        "# Set query and retriever\n",
        "query = \"Could you provide an image of the Multi-Head Attention?\"\n",
        "\n",
        "retriever = index.as_retriever(similarity_top_k=1, image_similarity_top_k=1)  # Adjust to retrieve enough images\n",
        "\n",
        "retrieval_results = retriever.retrieve(query)"
      ],
      "metadata": {
        "id": "u6htTs7n-Rg4"
      },
      "execution_count": null,
      "outputs": []
    },
    {
      "cell_type": "code",
      "source": [
        "retrieval_results"
      ],
      "metadata": {
        "colab": {
          "base_uri": "https://localhost:8080/"
        },
        "id": "LM1q63lM-RjY",
        "outputId": "b4de99a5-f239-43f3-bcf7-613f8c09b53a"
      },
      "execution_count": null,
      "outputs": [
        {
          "output_type": "execute_result",
          "data": {
            "text/plain": [
              "[NodeWithScore(node=TextNode(id_='70f127a0-5a71-4d31-abbe-b387efe87004', embedding=None, metadata={'file_path': '/content/document.pdf', 'page': '5', 'images': '[]', 'toc_items': \"[[3, 'Applications of Attention in our Model', 5], [2, 'Position-wise Feed-Forward Networks', 5], [2, 'Embeddings and Softmax', 5]]\"}, excluded_embed_metadata_keys=[], excluded_llm_metadata_keys=[], relationships={<NodeRelationship.SOURCE: '1'>: RelatedNodeInfo(node_id='1cef4562-f63b-4210-a5a1-9cfb73c243bb', node_type=<ObjectType.DOCUMENT: '4'>, metadata={'file_path': '/content/document.pdf', 'page': '5', 'images': '[]', 'toc_items': \"[[3, 'Applications of Attention in our Model', 5], [2, 'Position-wise Feed-Forward Networks', 5], [2, 'Embeddings and Softmax', 5]]\"}, hash='0f2ad0b590aa7f8bb81d763dae8e2d648e6530216a1c9e5b913656abeb4f9fe3')}, text='output values. These are concatenated and once again projected, resulting in the final values, as\\ndepicted in Figure 2.\\n\\nMulti-head attention allows the model to jointly attend to information from different representation\\nsubspaces at different positions. With a single attention head, averaging inhibits this.\\n\\nMultiHead(Q, K, V ) = Concat(head1, ..., headh)W _[O]_\\n\\nwhere headi = Attention(QWi[Q][, KW][ K]i _[, V W][ V]i_ [)]\\n\\nWhere the projections are parameter matrices Wi[Q] _∈_ R[d][model][×][d][k], Wi[K] _∈_ R[d][model][×][d][k], Wi[V] _∈_ R[d][model][×][d][v]\\nand W _[O]_ _∈_ R[hd][v][×][d][model].\\n\\nIn this work we employ h = 8 parallel attention layers, or heads. For each of these we use\\n_dk = dv = dmodel/h = 64. Due to the reduced dimension of each head, the total computational cost_\\nis similar to that of single-head attention with full dimensionality.\\n\\n**3.2.3** **Applications of Attention in our Model**\\n\\nThe Transformer uses multi-head attention in three different ways:\\n\\n    - In \"encoder-decoder attention\" layers, the queries come from the previous decoder layer,\\nand the memory keys and values come from the output of the encoder. This allows every\\nposition in the decoder to attend over all positions in the input sequence. This mimics the\\ntypical encoder-decoder attention mechanisms in sequence-to-sequence models such as\\n\\n[38, 2, 9].\\n\\n    - The encoder contains self-attention layers. In a self-attention layer all of the keys, values\\nand queries come from the same place, in this case, the output of the previous layer in the\\nencoder. Each position in the encoder can attend to all positions in the previous layer of the\\nencoder.\\n\\n    - Similarly, self-attention layers in the decoder allow each position in the decoder to attend to\\nall positions in the decoder up to and including that position. We need to prevent leftward\\ninformation flow in the decoder to preserve the auto-regressive property. We implement this\\ninside of scaled dot-product attention by masking out (setting to ) all values in the input\\n_−∞_\\nof the softmax which correspond to illegal connections. See Figure 2.\\n\\n**3.3** **Position-wise Feed-Forward Networks**\\n\\nIn addition to attention sub-layers, each of the layers in our encoder and decoder contains a fully\\nconnected feed-forward network, which is applied to each position separately and identically. This\\nconsists of two linear transformations with a ReLU activation in between.\\n\\nFFN(x) = max(0, xW1 + b1)W2 + b2 (2)\\n\\nWhile the linear transformations are the same across different positions, they use different parameters\\nfrom layer to layer. Another way of describing this is as two convolutions with kernel size 1.\\nThe dimensionality of input and output is dmodel = 512, and the inner-layer has dimensionality\\n_dff = 2048._\\n\\n**3.4** **Embeddings and Softmax**\\n\\nSimilarly to other sequence transduction models, we use learned embeddings to convert the input\\ntokens and output tokens to vectors of dimension dmodel. We also use the usual learned linear transformation and softmax function to convert the decoder output to predicted next-token probabilities. In\\nour model, we share the same weight matrix between the two embedding layers and the pre-softmax\\nlinear transformation, similar to [30]. In the embedding layers, we multiply those weights by _[√]dmodel._\\n\\n\\n-----', mimetype='text/plain', start_char_idx=0, end_char_idx=3329, text_template='Metadata: {metadata_str}\\n-----\\nContent: {content}', metadata_template='{key}: {value}', metadata_seperator='\\n'), score=0.8199309663422424),\n",
              " NodeWithScore(node=ImageNode(id_='9e0b8f47-4313-4357-99da-a4c92ed5342e', embedding=None, metadata={'file_path': '/content/images/document.pdf-3-0.jpg', 'file_name': 'document.pdf-3-0.jpg', 'file_type': 'image/jpeg', 'file_size': 21547, 'creation_date': '2024-09-30', 'last_modified_date': '2024-09-30'}, excluded_embed_metadata_keys=['file_name', 'file_type', 'file_size', 'creation_date', 'last_modified_date', 'last_accessed_date'], excluded_llm_metadata_keys=['file_name', 'file_type', 'file_size', 'creation_date', 'last_modified_date', 'last_accessed_date'], relationships={<NodeRelationship.SOURCE: '1'>: RelatedNodeInfo(node_id='7b6dae63-ba6d-4469-86c3-bbfc80323449', node_type=<ObjectType.DOCUMENT: '4'>, metadata={'file_path': '/content/images/document.pdf-3-0.jpg', 'file_name': 'document.pdf-3-0.jpg', 'file_type': 'image/jpeg', 'file_size': 21547, 'creation_date': '2024-09-30', 'last_modified_date': '2024-09-30'}, hash='819a4d26027c292af9d778f2cf7ff9942fc7f254f6550db467cc58ebba9be038')}, text='', mimetype='text/plain', start_char_idx=0, end_char_idx=0, text_template='{metadata_str}\\n\\n{content}', metadata_template='{key}: {value}', metadata_seperator='\\n', image=None, image_path='/content/images/document.pdf-3-0.jpg', image_url=None, image_mimetype=None, text_embedding=None), score=0.2589032981592738)]"
            ]
          },
          "metadata": {},
          "execution_count": 16
        }
      ]
    },
    {
      "cell_type": "code",
      "source": [
        "import matplotlib.pyplot as plt\n",
        "from PIL import Image\n",
        "\n",
        "def plot_images(image_paths):\n",
        "    images_shown = 0\n",
        "    plt.figure(figsize=(16, 9))\n",
        "    for img_path in image_paths:\n",
        "        if os.path.isfile(img_path):\n",
        "            image = Image.open(img_path)\n",
        "\n",
        "            plt.subplot(2, 3, images_shown + 1)\n",
        "            plt.imshow(image)\n",
        "            plt.xticks([])\n",
        "            plt.yticks([])\n",
        "\n",
        "            images_shown += 1\n",
        "            if images_shown >= 9:\n",
        "                break\n",
        "\n",
        "\n",
        "plot_images(image_path)"
      ],
      "metadata": {
        "colab": {
          "base_uri": "https://localhost:8080/",
          "height": 35
        },
        "id": "vMaDcwuT37Bi",
        "outputId": "5a820c75-8891-4499-c17a-5b36b1533d3f"
      },
      "execution_count": null,
      "outputs": [
        {
          "output_type": "display_data",
          "data": {
            "text/plain": [
              "<Figure size 1600x900 with 0 Axes>"
            ]
          },
          "metadata": {}
        }
      ]
    },
    {
      "cell_type": "code",
      "source": [
        "retrieved_image = []\n",
        "\n",
        "for res_node in retrieval_results:\n",
        "    if isinstance(res_node.node, ImageNode):\n",
        "        print(\"Highest Scored ImageNode\")\n",
        "        print(\"-----------------------\")\n",
        "        retrieved_image.append(res_node.node.metadata[\"file_path\"])\n",
        "    else:\n",
        "        print(\"Highest Scored TextNode\")\n",
        "        print(\"-----------------------\")\n",
        "\n",
        "        display_source_node(res_node, source_length=200)\n",
        "\n",
        "plot_images(retrieved_image)"
      ],
      "metadata": {
        "colab": {
          "base_uri": "https://localhost:8080/",
          "height": 512
        },
        "id": "sErQhPTLL1t_",
        "outputId": "b61ddddd-d685-454f-8890-5c0cb528d080"
      },
      "execution_count": null,
      "outputs": [
        {
          "output_type": "stream",
          "name": "stdout",
          "text": [
            "Highest Scored TextNode\n",
            "-----------------------\n"
          ]
        },
        {
          "output_type": "display_data",
          "data": {
            "text/plain": [
              "<IPython.core.display.Markdown object>"
            ],
            "text/markdown": "**Node ID:** 70f127a0-5a71-4d31-abbe-b387efe87004<br>**Similarity:** 0.8199309663422424<br>**Text:** output values. These are concatenated and once again projected, resulting in the final values, as\ndepicted in Figure 2.\n\nMulti-head attention allows the model to jointly attend to information from ...<br>"
          },
          "metadata": {}
        },
        {
          "output_type": "stream",
          "name": "stdout",
          "text": [
            "Highest Scored ImageNode\n",
            "-----------------------\n"
          ]
        },
        {
          "output_type": "display_data",
          "data": {
            "text/plain": [
              "<Figure size 1600x900 with 1 Axes>"
            ],
            "image/png": "[encoded data removed]"
          },
          "metadata": {}
        }
      ]
    }
  ]
}